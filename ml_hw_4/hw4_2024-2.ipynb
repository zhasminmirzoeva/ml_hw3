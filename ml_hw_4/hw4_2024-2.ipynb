{
  "cells": [
    {
      "cell_type": "markdown",
      "metadata": {
        "id": "lWPmLeWAC31o"
      },
      "source": [
        "# HSE 2024: Mathematical Methods for Data Analysis\n",
        "\n",
        "## Homework 4\n",
        "\n",
        "**Warning 1**: You have 10 days for this assignemnt.  **it is better to start early (!)**\n",
        "\n",
        "**Warning 2**: it is critical to describe and explain what you are doing and why, use markdown cells\n",
        "\n",
        "\n",
        "### Contents\n",
        "\n",
        "#### Decision Trees - 7 points\n",
        "* [Task 1](#task1) (0.5 points)\n",
        "* [Task 2](#task2) (0.5 points)\n",
        "* [Task 3](#task3) (2 points)\n",
        "* [Task 4](#task4) (0.5 points)\n",
        "* [Task 5](#task5) (0.5 points)\n",
        "* [Task 6](#task6) (2 points)\n",
        "* [Task 7](#task7) (0.5 points)\n",
        "* [Task 8](#task8) (0.5 points)\n",
        "\n",
        "#### Ensembles - 3 points\n",
        "* [Task 1](#task2_1) (1 point)\n",
        "* [Task 2](#task2_2) (0.7 points)\n",
        "* [Task 3](#task2_3) (0.5 points)\n",
        "* [Task 4](#task2_4) (0.7 points)\n",
        "* [Task 5](#task2_5) (0.1 points)"
      ]
    },
    {
      "cell_type": "code",
      "execution_count": 180,
      "metadata": {
        "ExecuteTime": {
          "end_time": "2024-11-19T16:18:01.730229Z",
          "start_time": "2024-11-19T16:18:01.033264Z"
        },
        "id": "MamcjATFC31t"
      },
      "outputs": [],
      "source": [
        "import matplotlib.pyplot as plt\n",
        "import numpy as np\n",
        "import pandas as pd\n",
        "\n",
        "plt.rcParams['figure.figsize'] = (11, 5)\n",
        "%matplotlib inline"
      ]
    },
    {
      "cell_type": "markdown",
      "metadata": {
        "id": "5jZYPdi4C31u"
      },
      "source": [
        "# Part 1. Decision Tree Regressor"
      ]
    },
    {
      "cell_type": "markdown",
      "metadata": {
        "id": "lQaeg3EGC31v"
      },
      "source": [
        "In this task you will be implementing decision tree for the regression by hand."
      ]
    },
    {
      "cell_type": "markdown",
      "metadata": {
        "id": "Cuthrm1HC31v"
      },
      "source": [
        "### Task 1 <a id=\"task1\"></a> (0.5 points)\n",
        "\n",
        "Here you should implement the function `H()` which calculates impurity criterion. We will be training regression tree, and will take mean absolute deviation as impurity criterion.\n",
        "\n",
        "* You cannot use loops\n",
        "* If `y` is empty, the function should return 0"
      ]
    },
    {
      "cell_type": "code",
      "execution_count": 181,
      "metadata": {
        "ExecuteTime": {
          "end_time": "2023-11-09T17:46:40.732847Z",
          "start_time": "2023-11-09T17:46:40.729241Z"
        },
        "id": "TcLFCd64C31v"
      },
      "outputs": [],
      "source": [
        "def H(y):\n",
        "  if y.any():\n",
        "      return np.mean((y - np.mean(y))**2)\n",
        "  return 0"
      ]
    },
    {
      "cell_type": "code",
      "execution_count": 182,
      "metadata": {
        "ExecuteTime": {
          "end_time": "2023-11-09T17:46:40.875430Z",
          "start_time": "2023-11-09T17:46:40.737694Z"
        },
        "id": "7UG_FegdC31w"
      },
      "outputs": [],
      "source": [
        "# Test the function\n",
        "assert np.allclose(H(np.array([4, 2, 2, 2])), 0.75)\n",
        "assert np.allclose(H(np.array([])), 0.0)"
      ]
    },
    {
      "cell_type": "markdown",
      "metadata": {
        "id": "O3xyZXurC31w"
      },
      "source": [
        "### Task 2 <a id=\"task2\"></a>  (0.5 points)\n",
        "\n",
        "To find the best split in the node we need to calculate the cost function. Denote:\n",
        "- `R` all the object in the node\n",
        "- `j` index of the feature selected for the split\n",
        "- `t` threshold\n",
        "- `R_l` and `R_r` objects in the left and right child nodes correspondingly\n",
        "\n",
        "We get the following cost function:\n",
        "\n",
        "$$\n",
        "Q(R, j, t) =\\frac{|R_\\ell|}{|R|}H(R_\\ell) + \\frac{|R_r|}{|R|}H(R_r) \\to \\min_{j, t},\n",
        "$$\n",
        "\n",
        "Implement the function `Q`, which should calculate value of the cost function for a given feature and threshold."
      ]
    },
    {
      "cell_type": "code",
      "execution_count": 183,
      "metadata": {
        "ExecuteTime": {
          "end_time": "2023-11-09T17:46:40.877419Z",
          "start_time": "2023-11-09T17:46:40.877407Z"
        },
        "id": "dPL3_SfiC31w"
      },
      "outputs": [],
      "source": [
        "def Q(X, y, j, t):\n",
        "    x_col = X[:, j]\n",
        "    y_left = y[x_col <= t]\n",
        "    y_right = y[x_col > t]\n",
        "    R_l = len(y_left)\n",
        "    R_r = len(y_right)\n",
        "    R = len(y)\n",
        "    H_left = H(y_left) if R_l > 0 else 0\n",
        "    H_right = H(y_right) if R_r > 0 else 0\n",
        "    Q = (R_l / R) * H_left + (R_r / R) * H_right\n",
        "    return Q"
      ]
    },
    {
      "cell_type": "markdown",
      "metadata": {
        "id": "tdRG8VQ1C31x"
      },
      "source": [
        "### Task 3 <a id=\"task3\"></a>  (2 points)\n",
        "\n",
        "Now, let's implement `MyDecisionTreeRegressor` class. More specifically, you need to implement the following methods:\n",
        "\n",
        "- `best_split`\n",
        "- `grow_tree`\n",
        "- `get_prediction`\n",
        "\n",
        "Also, please add `min_samples_leaf` parameter to your class\n",
        "\n",
        "Read docstrings for more details. Do not forget to use function `Q` implemented above, when finding the `best_split`"
      ]
    },
    {
      "cell_type": "code",
      "execution_count": 224,
      "metadata": {
        "ExecuteTime": {
          "end_time": "2023-11-09T17:46:40.878647Z",
          "start_time": "2023-11-09T17:46:40.878635Z"
        },
        "id": "kgwfHTiHC31x"
      },
      "outputs": [],
      "source": [
        "class Node(object):\n",
        "    \"\"\"\n",
        "    Class for a decision tree node.\n",
        "\n",
        "    Parameters\n",
        "    ----------\n",
        "    right : Node() or None\n",
        "        Right child\n",
        "    left : Node() or None\n",
        "        Left child\n",
        "    threshold: float\n",
        "\n",
        "    column: int\n",
        "\n",
        "    depth: int\n",
        "\n",
        "    prediction: float\n",
        "        prediction of the target value in the node\n",
        "        (average values calculated on a train dataset)\n",
        "    is_terminal:bool\n",
        "        indicates whether it is a terminal node (leaf) or not\n",
        "    \"\"\"\n",
        "    def __init__(self):\n",
        "        self.right = None\n",
        "        self.left = None\n",
        "        self.threshold = None\n",
        "        self.column = None\n",
        "        self.depth = None\n",
        "        self.is_terminal = False\n",
        "        self.prediction = None\n",
        "\n",
        "    def __repr__(self):\n",
        "        if self.is_terminal:\n",
        "            node_desc = 'Pred: {:.2f}'.format(self.prediction)\n",
        "        else:\n",
        "            node_desc = 'Col {}, t {:.2f}, Pred: {:.2f}'. \\\n",
        "            format(self.column, self.threshold, self.prediction)\n",
        "        return node_desc"
      ]
    },
    {
      "cell_type": "code",
      "execution_count": 225,
      "metadata": {
        "ExecuteTime": {
          "end_time": "2023-11-09T17:46:40.879812Z",
          "start_time": "2023-11-09T17:46:40.879801Z"
        },
        "id": "_DkgCbAiC31x"
      },
      "outputs": [],
      "source": [
        "from sklearn.base import BaseEstimator, RegressorMixin\n",
        "from sklearn.utils.validation import check_X_y, check_array, check_is_fitted\n",
        "\n",
        "class MyDecisionTreeRegressor(RegressorMixin, BaseEstimator):\n",
        "    def __init__(self, max_depth=3, min_samples_split=2, min_samples_leaf=1):\n",
        "        self.max_depth = max_depth\n",
        "        self.min_samples_split = min_samples_split\n",
        "        self.min_samples_leaf = min_samples_leaf\n",
        "    def best_split(self, X, y):\n",
        "        n_samples, n_features = X.shape\n",
        "        best_cost = float('inf')\n",
        "        best_split_column, best_threshold = None, None\n",
        "        X_left, y_left, X_right, y_right = None, None, None, None\n",
        "\n",
        "        for j in range(n_features):\n",
        "            thresholds = np.unique(X[:, j])\n",
        "            for t in thresholds:\n",
        "                cost = Q(X, y, j, t)\n",
        "                if cost < best_cost:\n",
        "                    best_cost = cost\n",
        "                    best_split_column = j\n",
        "                    best_threshold = t\n",
        "                    mask_left = X[:, j] <= t\n",
        "                    mask_right = X[:, j] > t\n",
        "                    X_left, y_left = X[mask_left], y[mask_left]\n",
        "                    X_right, y_right = X[mask_right], y[mask_right]\n",
        "\n",
        "        return best_split_column, best_threshold, X_left, y_left, X_right, y_right\n",
        "\n",
        "    def is_terminal(self, node, y):\n",
        "        if node.depth >= self.max_depth:\n",
        "            return True\n",
        "        if len(y) < self.min_samples_split:\n",
        "            return True\n",
        "        if len(y) <= self.min_samples_leaf:\n",
        "            return True\n",
        "        return False\n",
        "\n",
        "    def grow_tree(self, node, X, y):\n",
        "        if self.is_terminal(node, y):\n",
        "            node.is_terminal = True\n",
        "            node.prediction = np.mean(y)\n",
        "            return\n",
        "\n",
        "        split_feature, split_threshold, X_left, y_left, X_right, y_right = self.best_split(X, y)\n",
        "        if X_left is None or len(X_left) < self.min_samples_leaf or len(X_right) < self.min_samples_leaf:\n",
        "            node.is_terminal = True\n",
        "            node.prediction = np.mean(y)\n",
        "            return\n",
        "\n",
        "        node.column = split_feature\n",
        "        node.threshold = split_threshold\n",
        "        node.left = Node()\n",
        "        node.right = Node()\n",
        "        node.left.depth = node.depth + 1\n",
        "        node.right.depth = node.depth + 1\n",
        "\n",
        "        self.grow_tree(node.left, X_left, y_left)\n",
        "        self.grow_tree(node.right, X_right, y_right)\n",
        "\n",
        "    def fit(self, X, y):\n",
        "        X, y = check_X_y(X, y, accept_sparse=False)\n",
        "        self.is_fitted_ = True\n",
        "        self.n_features_in_ = X.shape[1]\n",
        "        self.tree_ = Node()\n",
        "        self.tree_.depth = 1\n",
        "        self.tree_.prediction = np.mean(y)\n",
        "\n",
        "        self.grow_tree(self.tree_, X, y)\n",
        "        return self\n",
        "\n",
        "    def get_prediction(self, node, x):\n",
        "        if node.is_terminal:\n",
        "            return node.prediction\n",
        "        if x[node.column] <= node.threshold:\n",
        "            return self.get_prediction(node.left, x)\n",
        "        else:\n",
        "            return self.get_prediction(node.right, x)\n",
        "\n",
        "    def predict(self, X):\n",
        "        X = check_array(X, accept_sparse=False)\n",
        "        check_is_fitted(self, 'is_fitted_')\n",
        "        y_predicted = [self.get_prediction(self.tree_, x) for x in X]\n",
        "        return np.array(y_predicted)"
      ]
    },
    {
      "cell_type": "code",
      "execution_count": 210,
      "metadata": {
        "ExecuteTime": {
          "end_time": "2023-11-09T17:46:40.880754Z",
          "start_time": "2023-11-09T17:46:40.880743Z"
        },
        "id": "SpCEMioUC31y"
      },
      "outputs": [],
      "source": [
        "# check yourself\n",
        "from sklearn.utils.estimator_checks import check_estimator\n",
        "\n",
        "check_estimator(MyDecisionTreeRegressor())\n"
      ]
    },
    {
      "cell_type": "markdown",
      "metadata": {
        "id": "4A_Yl-z8C31z"
      },
      "source": [
        "### Task 4 <a id=\"task4\"></a>  (0.5 points)\n",
        "\n",
        "Load boston dataset and split it on the train ($75\\%$) and test ($25\\%$). Fit Decision Tree of **depth 1 and 2** (root node has **depth 0**) and make the following plot for every case :\n",
        "\n",
        "- Scatter plot of the traning points for each splitted feature (selected for split feature on the x-axis, target variable on the y-axis). Show the resulting thresholds\n",
        "\n",
        "After that, fit analogical model from sklearn and visual it\n",
        "\n",
        "Compare `MAE` on train and test. Have trees overfitted?"
      ]
    },
    {
      "cell_type": "code",
      "execution_count": 187,
      "metadata": {
        "ExecuteTime": {
          "end_time": "2024-11-19T16:18:29.395938Z",
          "start_time": "2024-11-19T16:18:29.353524Z"
        },
        "colab": {
          "base_uri": "https://localhost:8080/",
          "height": 224
        },
        "id": "yHOnxfojC31z",
        "outputId": "4f511027-d4c5-413c-86dc-4ce8f884b813"
      },
      "outputs": [
        {
          "output_type": "execute_result",
          "data": {
            "text/plain": [
              "      CRIM    ZN  INDUS  CHAS    NOX     RM   AGE     DIS  RAD    TAX  \\\n",
              "0  0.00632  18.0   2.31   0.0  0.538  6.575  65.2  4.0900  1.0  296.0   \n",
              "1  0.02731   0.0   7.07   0.0  0.469  6.421  78.9  4.9671  2.0  242.0   \n",
              "2  0.02729   0.0   7.07   0.0  0.469  7.185  61.1  4.9671  2.0  242.0   \n",
              "3  0.03237   0.0   2.18   0.0  0.458  6.998  45.8  6.0622  3.0  222.0   \n",
              "4  0.06905   0.0   2.18   0.0  0.458  7.147  54.2  6.0622  3.0  222.0   \n",
              "\n",
              "   PTRATIO       B  LSTAT  TARGET  \n",
              "0     15.3  396.90   4.98    24.0  \n",
              "1     17.8  396.90   9.14    21.6  \n",
              "2     17.8  392.83   4.03    34.7  \n",
              "3     18.7  394.63   2.94    33.4  \n",
              "4     18.7  396.90   5.33    36.2  "
            ],
            "text/html": [
              "\n",
              "  <div id=\"df-d8bb78a8-bd75-4514-b2e6-f13a641e0412\" class=\"colab-df-container\">\n",
              "    <div>\n",
              "<style scoped>\n",
              "    .dataframe tbody tr th:only-of-type {\n",
              "        vertical-align: middle;\n",
              "    }\n",
              "\n",
              "    .dataframe tbody tr th {\n",
              "        vertical-align: top;\n",
              "    }\n",
              "\n",
              "    .dataframe thead th {\n",
              "        text-align: right;\n",
              "    }\n",
              "</style>\n",
              "<table border=\"1\" class=\"dataframe\">\n",
              "  <thead>\n",
              "    <tr style=\"text-align: right;\">\n",
              "      <th></th>\n",
              "      <th>CRIM</th>\n",
              "      <th>ZN</th>\n",
              "      <th>INDUS</th>\n",
              "      <th>CHAS</th>\n",
              "      <th>NOX</th>\n",
              "      <th>RM</th>\n",
              "      <th>AGE</th>\n",
              "      <th>DIS</th>\n",
              "      <th>RAD</th>\n",
              "      <th>TAX</th>\n",
              "      <th>PTRATIO</th>\n",
              "      <th>B</th>\n",
              "      <th>LSTAT</th>\n",
              "      <th>TARGET</th>\n",
              "    </tr>\n",
              "  </thead>\n",
              "  <tbody>\n",
              "    <tr>\n",
              "      <th>0</th>\n",
              "      <td>0.00632</td>\n",
              "      <td>18.0</td>\n",
              "      <td>2.31</td>\n",
              "      <td>0.0</td>\n",
              "      <td>0.538</td>\n",
              "      <td>6.575</td>\n",
              "      <td>65.2</td>\n",
              "      <td>4.0900</td>\n",
              "      <td>1.0</td>\n",
              "      <td>296.0</td>\n",
              "      <td>15.3</td>\n",
              "      <td>396.90</td>\n",
              "      <td>4.98</td>\n",
              "      <td>24.0</td>\n",
              "    </tr>\n",
              "    <tr>\n",
              "      <th>1</th>\n",
              "      <td>0.02731</td>\n",
              "      <td>0.0</td>\n",
              "      <td>7.07</td>\n",
              "      <td>0.0</td>\n",
              "      <td>0.469</td>\n",
              "      <td>6.421</td>\n",
              "      <td>78.9</td>\n",
              "      <td>4.9671</td>\n",
              "      <td>2.0</td>\n",
              "      <td>242.0</td>\n",
              "      <td>17.8</td>\n",
              "      <td>396.90</td>\n",
              "      <td>9.14</td>\n",
              "      <td>21.6</td>\n",
              "    </tr>\n",
              "    <tr>\n",
              "      <th>2</th>\n",
              "      <td>0.02729</td>\n",
              "      <td>0.0</td>\n",
              "      <td>7.07</td>\n",
              "      <td>0.0</td>\n",
              "      <td>0.469</td>\n",
              "      <td>7.185</td>\n",
              "      <td>61.1</td>\n",
              "      <td>4.9671</td>\n",
              "      <td>2.0</td>\n",
              "      <td>242.0</td>\n",
              "      <td>17.8</td>\n",
              "      <td>392.83</td>\n",
              "      <td>4.03</td>\n",
              "      <td>34.7</td>\n",
              "    </tr>\n",
              "    <tr>\n",
              "      <th>3</th>\n",
              "      <td>0.03237</td>\n",
              "      <td>0.0</td>\n",
              "      <td>2.18</td>\n",
              "      <td>0.0</td>\n",
              "      <td>0.458</td>\n",
              "      <td>6.998</td>\n",
              "      <td>45.8</td>\n",
              "      <td>6.0622</td>\n",
              "      <td>3.0</td>\n",
              "      <td>222.0</td>\n",
              "      <td>18.7</td>\n",
              "      <td>394.63</td>\n",
              "      <td>2.94</td>\n",
              "      <td>33.4</td>\n",
              "    </tr>\n",
              "    <tr>\n",
              "      <th>4</th>\n",
              "      <td>0.06905</td>\n",
              "      <td>0.0</td>\n",
              "      <td>2.18</td>\n",
              "      <td>0.0</td>\n",
              "      <td>0.458</td>\n",
              "      <td>7.147</td>\n",
              "      <td>54.2</td>\n",
              "      <td>6.0622</td>\n",
              "      <td>3.0</td>\n",
              "      <td>222.0</td>\n",
              "      <td>18.7</td>\n",
              "      <td>396.90</td>\n",
              "      <td>5.33</td>\n",
              "      <td>36.2</td>\n",
              "    </tr>\n",
              "  </tbody>\n",
              "</table>\n",
              "</div>\n",
              "    <div class=\"colab-df-buttons\">\n",
              "\n",
              "  <div class=\"colab-df-container\">\n",
              "    <button class=\"colab-df-convert\" onclick=\"convertToInteractive('df-d8bb78a8-bd75-4514-b2e6-f13a641e0412')\"\n",
              "            title=\"Convert this dataframe to an interactive table.\"\n",
              "            style=\"display:none;\">\n",
              "\n",
              "  <svg xmlns=\"http://www.w3.org/2000/svg\" height=\"24px\" viewBox=\"0 -960 960 960\">\n",
              "    <path d=\"M120-120v-720h720v720H120Zm60-500h600v-160H180v160Zm220 220h160v-160H400v160Zm0 220h160v-160H400v160ZM180-400h160v-160H180v160Zm440 0h160v-160H620v160ZM180-180h160v-160H180v160Zm440 0h160v-160H620v160Z\"/>\n",
              "  </svg>\n",
              "    </button>\n",
              "\n",
              "  <style>\n",
              "    .colab-df-container {\n",
              "      display:flex;\n",
              "      gap: 12px;\n",
              "    }\n",
              "\n",
              "    .colab-df-convert {\n",
              "      background-color: #E8F0FE;\n",
              "      border: none;\n",
              "      border-radius: 50%;\n",
              "      cursor: pointer;\n",
              "      display: none;\n",
              "      fill: #1967D2;\n",
              "      height: 32px;\n",
              "      padding: 0 0 0 0;\n",
              "      width: 32px;\n",
              "    }\n",
              "\n",
              "    .colab-df-convert:hover {\n",
              "      background-color: #E2EBFA;\n",
              "      box-shadow: 0px 1px 2px rgba(60, 64, 67, 0.3), 0px 1px 3px 1px rgba(60, 64, 67, 0.15);\n",
              "      fill: #174EA6;\n",
              "    }\n",
              "\n",
              "    .colab-df-buttons div {\n",
              "      margin-bottom: 4px;\n",
              "    }\n",
              "\n",
              "    [theme=dark] .colab-df-convert {\n",
              "      background-color: #3B4455;\n",
              "      fill: #D2E3FC;\n",
              "    }\n",
              "\n",
              "    [theme=dark] .colab-df-convert:hover {\n",
              "      background-color: #434B5C;\n",
              "      box-shadow: 0px 1px 3px 1px rgba(0, 0, 0, 0.15);\n",
              "      filter: drop-shadow(0px 1px 2px rgba(0, 0, 0, 0.3));\n",
              "      fill: #FFFFFF;\n",
              "    }\n",
              "  </style>\n",
              "\n",
              "    <script>\n",
              "      const buttonEl =\n",
              "        document.querySelector('#df-d8bb78a8-bd75-4514-b2e6-f13a641e0412 button.colab-df-convert');\n",
              "      buttonEl.style.display =\n",
              "        google.colab.kernel.accessAllowed ? 'block' : 'none';\n",
              "\n",
              "      async function convertToInteractive(key) {\n",
              "        const element = document.querySelector('#df-d8bb78a8-bd75-4514-b2e6-f13a641e0412');\n",
              "        const dataTable =\n",
              "          await google.colab.kernel.invokeFunction('convertToInteractive',\n",
              "                                                    [key], {});\n",
              "        if (!dataTable) return;\n",
              "\n",
              "        const docLinkHtml = 'Like what you see? Visit the ' +\n",
              "          '<a target=\"_blank\" href=https://colab.research.google.com/notebooks/data_table.ipynb>data table notebook</a>'\n",
              "          + ' to learn more about interactive tables.';\n",
              "        element.innerHTML = '';\n",
              "        dataTable['output_type'] = 'display_data';\n",
              "        await google.colab.output.renderOutput(dataTable, element);\n",
              "        const docLink = document.createElement('div');\n",
              "        docLink.innerHTML = docLinkHtml;\n",
              "        element.appendChild(docLink);\n",
              "      }\n",
              "    </script>\n",
              "  </div>\n",
              "\n",
              "\n",
              "<div id=\"df-681bf203-c0b1-45b0-8947-cc395cfb61a4\">\n",
              "  <button class=\"colab-df-quickchart\" onclick=\"quickchart('df-681bf203-c0b1-45b0-8947-cc395cfb61a4')\"\n",
              "            title=\"Suggest charts\"\n",
              "            style=\"display:none;\">\n",
              "\n",
              "<svg xmlns=\"http://www.w3.org/2000/svg\" height=\"24px\"viewBox=\"0 0 24 24\"\n",
              "     width=\"24px\">\n",
              "    <g>\n",
              "        <path d=\"M19 3H5c-1.1 0-2 .9-2 2v14c0 1.1.9 2 2 2h14c1.1 0 2-.9 2-2V5c0-1.1-.9-2-2-2zM9 17H7v-7h2v7zm4 0h-2V7h2v10zm4 0h-2v-4h2v4z\"/>\n",
              "    </g>\n",
              "</svg>\n",
              "  </button>\n",
              "\n",
              "<style>\n",
              "  .colab-df-quickchart {\n",
              "      --bg-color: #E8F0FE;\n",
              "      --fill-color: #1967D2;\n",
              "      --hover-bg-color: #E2EBFA;\n",
              "      --hover-fill-color: #174EA6;\n",
              "      --disabled-fill-color: #AAA;\n",
              "      --disabled-bg-color: #DDD;\n",
              "  }\n",
              "\n",
              "  [theme=dark] .colab-df-quickchart {\n",
              "      --bg-color: #3B4455;\n",
              "      --fill-color: #D2E3FC;\n",
              "      --hover-bg-color: #434B5C;\n",
              "      --hover-fill-color: #FFFFFF;\n",
              "      --disabled-bg-color: #3B4455;\n",
              "      --disabled-fill-color: #666;\n",
              "  }\n",
              "\n",
              "  .colab-df-quickchart {\n",
              "    background-color: var(--bg-color);\n",
              "    border: none;\n",
              "    border-radius: 50%;\n",
              "    cursor: pointer;\n",
              "    display: none;\n",
              "    fill: var(--fill-color);\n",
              "    height: 32px;\n",
              "    padding: 0;\n",
              "    width: 32px;\n",
              "  }\n",
              "\n",
              "  .colab-df-quickchart:hover {\n",
              "    background-color: var(--hover-bg-color);\n",
              "    box-shadow: 0 1px 2px rgba(60, 64, 67, 0.3), 0 1px 3px 1px rgba(60, 64, 67, 0.15);\n",
              "    fill: var(--button-hover-fill-color);\n",
              "  }\n",
              "\n",
              "  .colab-df-quickchart-complete:disabled,\n",
              "  .colab-df-quickchart-complete:disabled:hover {\n",
              "    background-color: var(--disabled-bg-color);\n",
              "    fill: var(--disabled-fill-color);\n",
              "    box-shadow: none;\n",
              "  }\n",
              "\n",
              "  .colab-df-spinner {\n",
              "    border: 2px solid var(--fill-color);\n",
              "    border-color: transparent;\n",
              "    border-bottom-color: var(--fill-color);\n",
              "    animation:\n",
              "      spin 1s steps(1) infinite;\n",
              "  }\n",
              "\n",
              "  @keyframes spin {\n",
              "    0% {\n",
              "      border-color: transparent;\n",
              "      border-bottom-color: var(--fill-color);\n",
              "      border-left-color: var(--fill-color);\n",
              "    }\n",
              "    20% {\n",
              "      border-color: transparent;\n",
              "      border-left-color: var(--fill-color);\n",
              "      border-top-color: var(--fill-color);\n",
              "    }\n",
              "    30% {\n",
              "      border-color: transparent;\n",
              "      border-left-color: var(--fill-color);\n",
              "      border-top-color: var(--fill-color);\n",
              "      border-right-color: var(--fill-color);\n",
              "    }\n",
              "    40% {\n",
              "      border-color: transparent;\n",
              "      border-right-color: var(--fill-color);\n",
              "      border-top-color: var(--fill-color);\n",
              "    }\n",
              "    60% {\n",
              "      border-color: transparent;\n",
              "      border-right-color: var(--fill-color);\n",
              "    }\n",
              "    80% {\n",
              "      border-color: transparent;\n",
              "      border-right-color: var(--fill-color);\n",
              "      border-bottom-color: var(--fill-color);\n",
              "    }\n",
              "    90% {\n",
              "      border-color: transparent;\n",
              "      border-bottom-color: var(--fill-color);\n",
              "    }\n",
              "  }\n",
              "</style>\n",
              "\n",
              "  <script>\n",
              "    async function quickchart(key) {\n",
              "      const quickchartButtonEl =\n",
              "        document.querySelector('#' + key + ' button');\n",
              "      quickchartButtonEl.disabled = true;  // To prevent multiple clicks.\n",
              "      quickchartButtonEl.classList.add('colab-df-spinner');\n",
              "      try {\n",
              "        const charts = await google.colab.kernel.invokeFunction(\n",
              "            'suggestCharts', [key], {});\n",
              "      } catch (error) {\n",
              "        console.error('Error during call to suggestCharts:', error);\n",
              "      }\n",
              "      quickchartButtonEl.classList.remove('colab-df-spinner');\n",
              "      quickchartButtonEl.classList.add('colab-df-quickchart-complete');\n",
              "    }\n",
              "    (() => {\n",
              "      let quickchartButtonEl =\n",
              "        document.querySelector('#df-681bf203-c0b1-45b0-8947-cc395cfb61a4 button');\n",
              "      quickchartButtonEl.style.display =\n",
              "        google.colab.kernel.accessAllowed ? 'block' : 'none';\n",
              "    })();\n",
              "  </script>\n",
              "</div>\n",
              "    </div>\n",
              "  </div>\n"
            ],
            "application/vnd.google.colaboratory.intrinsic+json": {
              "type": "dataframe",
              "variable_name": "df",
              "summary": "{\n  \"name\": \"df\",\n  \"rows\": 506,\n  \"fields\": [\n    {\n      \"column\": \"CRIM\",\n      \"properties\": {\n        \"dtype\": \"number\",\n        \"std\": 8.601545105332487,\n        \"min\": 0.00632,\n        \"max\": 88.9762,\n        \"num_unique_values\": 504,\n        \"samples\": [\n          0.09178,\n          0.05644,\n          0.10574\n        ],\n        \"semantic_type\": \"\",\n        \"description\": \"\"\n      }\n    },\n    {\n      \"column\": \"ZN\",\n      \"properties\": {\n        \"dtype\": \"number\",\n        \"std\": 23.322452994515036,\n        \"min\": 0.0,\n        \"max\": 100.0,\n        \"num_unique_values\": 26,\n        \"samples\": [\n          25.0,\n          30.0,\n          18.0\n        ],\n        \"semantic_type\": \"\",\n        \"description\": \"\"\n      }\n    },\n    {\n      \"column\": \"INDUS\",\n      \"properties\": {\n        \"dtype\": \"number\",\n        \"std\": 6.8603529408975845,\n        \"min\": 0.46,\n        \"max\": 27.74,\n        \"num_unique_values\": 76,\n        \"samples\": [\n          8.14,\n          1.47,\n          1.22\n        ],\n        \"semantic_type\": \"\",\n        \"description\": \"\"\n      }\n    },\n    {\n      \"column\": \"CHAS\",\n      \"properties\": {\n        \"dtype\": \"number\",\n        \"std\": 0.2539940413404118,\n        \"min\": 0.0,\n        \"max\": 1.0,\n        \"num_unique_values\": 2,\n        \"samples\": [\n          1.0,\n          0.0\n        ],\n        \"semantic_type\": \"\",\n        \"description\": \"\"\n      }\n    },\n    {\n      \"column\": \"NOX\",\n      \"properties\": {\n        \"dtype\": \"number\",\n        \"std\": 0.11587767566755611,\n        \"min\": 0.385,\n        \"max\": 0.871,\n        \"num_unique_values\": 81,\n        \"samples\": [\n          0.401,\n          0.538\n        ],\n        \"semantic_type\": \"\",\n        \"description\": \"\"\n      }\n    },\n    {\n      \"column\": \"RM\",\n      \"properties\": {\n        \"dtype\": \"number\",\n        \"std\": 0.7026171434153237,\n        \"min\": 3.561,\n        \"max\": 8.78,\n        \"num_unique_values\": 446,\n        \"samples\": [\n          6.849,\n          4.88\n        ],\n        \"semantic_type\": \"\",\n        \"description\": \"\"\n      }\n    },\n    {\n      \"column\": \"AGE\",\n      \"properties\": {\n        \"dtype\": \"number\",\n        \"std\": 28.148861406903638,\n        \"min\": 2.9,\n        \"max\": 100.0,\n        \"num_unique_values\": 356,\n        \"samples\": [\n          51.8,\n          33.8\n        ],\n        \"semantic_type\": \"\",\n        \"description\": \"\"\n      }\n    },\n    {\n      \"column\": \"DIS\",\n      \"properties\": {\n        \"dtype\": \"number\",\n        \"std\": 2.1057101266276104,\n        \"min\": 1.1296,\n        \"max\": 12.1265,\n        \"num_unique_values\": 412,\n        \"samples\": [\n          2.2955,\n          4.2515\n        ],\n        \"semantic_type\": \"\",\n        \"description\": \"\"\n      }\n    },\n    {\n      \"column\": \"RAD\",\n      \"properties\": {\n        \"dtype\": \"number\",\n        \"std\": 8.707259384239377,\n        \"min\": 1.0,\n        \"max\": 24.0,\n        \"num_unique_values\": 9,\n        \"samples\": [\n          7.0,\n          2.0\n        ],\n        \"semantic_type\": \"\",\n        \"description\": \"\"\n      }\n    },\n    {\n      \"column\": \"TAX\",\n      \"properties\": {\n        \"dtype\": \"number\",\n        \"std\": 168.53711605495926,\n        \"min\": 187.0,\n        \"max\": 711.0,\n        \"num_unique_values\": 66,\n        \"samples\": [\n          370.0,\n          666.0\n        ],\n        \"semantic_type\": \"\",\n        \"description\": \"\"\n      }\n    },\n    {\n      \"column\": \"PTRATIO\",\n      \"properties\": {\n        \"dtype\": \"number\",\n        \"std\": 2.164945523714446,\n        \"min\": 12.6,\n        \"max\": 22.0,\n        \"num_unique_values\": 46,\n        \"samples\": [\n          19.6,\n          15.6\n        ],\n        \"semantic_type\": \"\",\n        \"description\": \"\"\n      }\n    },\n    {\n      \"column\": \"B\",\n      \"properties\": {\n        \"dtype\": \"number\",\n        \"std\": 91.29486438415779,\n        \"min\": 0.32,\n        \"max\": 396.9,\n        \"num_unique_values\": 357,\n        \"samples\": [\n          396.24,\n          395.11\n        ],\n        \"semantic_type\": \"\",\n        \"description\": \"\"\n      }\n    },\n    {\n      \"column\": \"LSTAT\",\n      \"properties\": {\n        \"dtype\": \"number\",\n        \"std\": 7.141061511348571,\n        \"min\": 1.73,\n        \"max\": 37.97,\n        \"num_unique_values\": 455,\n        \"samples\": [\n          6.15,\n          4.32\n        ],\n        \"semantic_type\": \"\",\n        \"description\": \"\"\n      }\n    },\n    {\n      \"column\": \"TARGET\",\n      \"properties\": {\n        \"dtype\": \"number\",\n        \"std\": 9.19710408737982,\n        \"min\": 5.0,\n        \"max\": 50.0,\n        \"num_unique_values\": 229,\n        \"samples\": [\n          14.1,\n          22.5\n        ],\n        \"semantic_type\": \"\",\n        \"description\": \"\"\n      }\n    }\n  ]\n}"
            }
          },
          "metadata": {},
          "execution_count": 187
        }
      ],
      "source": [
        "df = pd.read_csv('boston_house_prices.csv')\n",
        "df.head()"
      ]
    },
    {
      "cell_type": "code",
      "execution_count": 246,
      "metadata": {
        "ExecuteTime": {
          "end_time": "2024-11-19T16:09:32.433252Z",
          "start_time": "2024-11-19T16:09:31.514421Z"
        },
        "colab": {
          "base_uri": "https://localhost:8080/",
          "height": 649
        },
        "id": "WuWIA-29C31z",
        "outputId": "fd45c682-a6fe-4417-be11-315e4cff3b8e"
      },
      "outputs": [
        {
          "output_type": "display_data",
          "data": {
            "text/plain": [
              "<Figure size 1000x800 with 1 Axes>"
            ],
            "image/png": "[encoded data removed]"
          },
          "metadata": {}
        }
      ],
      "source": [
        "from sklearn.model_selection import train_test_split\n",
        "from sklearn.utils.validation import check_X_y, check_array, check_is_fitted\n",
        "from sklearn.tree import DecisionTreeRegressor\n",
        "y_column = \"TARGET\"\n",
        "X_columns = df.columns[df.columns != y_column]\n",
        "X = np.array(df[X_columns])\n",
        "y = np.array(df[y_column])\n",
        "X_train, X_test, y_train, y_test = train_test_split(X, y,\n",
        "                                                    test_size=0.25,\n",
        "                                                    random_state=42)\n",
        "model_depth_1 = MyDecisionTreeRegressor(max_depth=2)\n",
        "model_depth_1.fit(X_train, y_train)\n",
        "col = model_depth_1.tree_.column\n",
        "t = model_depth_1.tree_.threshold\n",
        "plt.figure(figsize=(10, 8))\n",
        "plt.scatter(X_train[:, col], y_train)\n",
        "plt.xlabel(f\"Feature {col + 1}\")\n",
        "plt.ylabel(\"Target (Price)\")\n",
        "plt.axvline(t, linestyle='--', color='black')\n",
        "plt.title(\"MyDecision Tree\")\n",
        "plt.show()\n"
      ]
    },
    {
      "cell_type": "code",
      "source": [
        "def plot_thres(max_depth):\n",
        "    plt.figure(figsize=(10, 8))\n",
        "    model = DecisionTreeRegressor(max_depth = max_depth)\n",
        "    model.fit(X_train, y_train)\n",
        "    features = model.tree_.feature\n",
        "    for i in range(0, features.shape[0]):\n",
        "      if features[i] == -2:\n",
        "        break\n",
        "      plt.figure(figsize=(10, 8))\n",
        "      plt.scatter(X_train[:, features[i]], y_train)\n",
        "      plt.axvline(model.tree_.threshold[i], linestyle='--', color='black')\n",
        "      plt.xlabel(f\"Feature {features[i] + 1}\")\n",
        "      plt.ylabel(\"Target (Price)\")\n",
        "      plt.title(f\"Sklearn DecisionTreeRegressor with max_depth = {max_depth}\")\n",
        "      plt.show()\n",
        "plot_thres(1)\n",
        "plot_thres(2)"
      ],
      "metadata": {
        "colab": {
          "base_uri": "https://localhost:8080/",
          "height": 1000
        },
        "id": "lg2TqgfhjUFE",
        "outputId": "7c348ff9-f232-40bd-eed2-0183f4cec371"
      },
      "execution_count": 253,
      "outputs": [
        {
          "output_type": "display_data",
          "data": {
            "text/plain": [
              "<Figure size 1000x800 with 0 Axes>"
            ]
          },
          "metadata": {}
        },
        {
          "output_type": "display_data",
          "data": {
            "text/plain": [
              "<Figure size 1000x800 with 1 Axes>"
            ],
            "image/png": "[encoded data removed]"
          },
          "metadata": {}
        },
        {
          "output_type": "display_data",
          "data": {
            "text/plain": [
              "<Figure size 1000x800 with 0 Axes>"
            ]
          },
          "metadata": {}
        },
        {
          "output_type": "display_data",
          "data": {
            "text/plain": [
              "<Figure size 1000x800 with 1 Axes>"
            ],
            "image/png": "[encoded data removed]"
          },
          "metadata": {}
        },
        {
          "output_type": "display_data",
          "data": {
            "text/plain": [
              "<Figure size 1000x800 with 1 Axes>"
            ],
            "image/png": "[encoded data removed]"
          },
          "metadata": {}
        }
      ]
    },
    {
      "cell_type": "code",
      "source": [
        "from sklearn.metrics import mean_absolute_error, accuracy_score\n",
        "model = MyDecisionTreeRegressor()\n",
        "model.fit(X_train, y_train)\n",
        "pred_train = model.predict(X_train)\n",
        "pred_test = model.predict(X_test)\n",
        "print(mean_absolute_error(y_train, pred_train))\n",
        "print(mean_absolute_error(y_test, pred_test))"
      ],
      "metadata": {
        "colab": {
          "base_uri": "https://localhost:8080/"
        },
        "id": "JN_sVYNjIQtx",
        "outputId": "745e2c55-1291-40af-963b-cbd7c04c5c36"
      },
      "execution_count": 254,
      "outputs": [
        {
          "output_type": "stream",
          "name": "stdout",
          "text": [
            "3.5438837649156394\n",
            "3.6645025895827197\n"
          ]
        }
      ]
    },
    {
      "cell_type": "markdown",
      "source": [
        "Так как MAE на тестовых данных выше, чем на обучающей выборке, то модель переобучена"
      ],
      "metadata": {
        "id": "YJkSxsX8LKBx"
      }
    },
    {
      "cell_type": "markdown",
      "metadata": {
        "id": "tt5d4RuyC31z"
      },
      "source": [
        "### Task 5 <a id=\"task5\"></a>  (0.5 points)\n",
        "\n",
        "Keep working with boston dataset.\n",
        "- Use `GridSearchCV` to find the best hyperparameters among [`max_depth`, `min_samples_leaf`] on 5-Fold cross-validation\n",
        "- Train the model with the best set of hyperparameters on the whole train dataset.\n",
        "- Report `MAE` on test dataset and hyperparameters of the best estimator."
      ]
    },
    {
      "cell_type": "code",
      "execution_count": 255,
      "metadata": {
        "ExecuteTime": {
          "end_time": "2023-11-09T17:46:40.884202Z",
          "start_time": "2023-11-09T17:46:40.884125Z"
        },
        "id": "jMCLjX6JC310",
        "colab": {
          "base_uri": "https://localhost:8080/"
        },
        "outputId": "7556a02e-2d5b-400c-d4db-b0e03b5463f1"
      },
      "outputs": [
        {
          "output_type": "stream",
          "name": "stdout",
          "text": [
            "Best parameters: {'max_depth': 6, 'min_samples_leaf': 3}\n",
            "MAE: 2.432954169629976\n"
          ]
        }
      ],
      "source": [
        "from sklearn.model_selection import GridSearchCV\n",
        "parameters = {'max_depth': [1, 2, 3, 4, 5, 6, 7], 'min_samples_leaf': [1, 2, 3, 3, 4, 5, 6, 7]}\n",
        "model = GridSearchCV(MyDecisionTreeRegressor(), param_grid=parameters, cv=5)\n",
        "model.fit(X_train, y_train)\n",
        "mae = mean_absolute_error(y_test, model.predict(X_test))\n",
        "print(\"Best parameters: {}\".format(model.best_params_))\n",
        "print(\"MAE: {}\".format(mae))"
      ]
    },
    {
      "cell_type": "markdown",
      "metadata": {
        "id": "JsEeb_VnC310"
      },
      "source": [
        "### Task 6 <a id=\"task6\"></a>  (2 points)\n",
        "\n",
        "Recall definition of bias and variance:\n",
        "$$\n",
        "\\text{Bias}^2 = \\mathbb{E}_{p(x, y)} \\left[  (f(x) - \\mathbb{E}_{\\mathbb{X}}a_{\\mathbb{X}}(x))^2 \\right] \\\\\n",
        "\\text{Variance} = \\mathbb{E}_{p(x, y)} \\left[  \\mathbb{V}_{\\mathbb{X}}( a_{\\mathbb{X}}(x))  \\right]\n",
        "$$\n",
        "\n",
        "We wil now use the following algorithm to estimate bias and variance:\n",
        "\n",
        "1. Use bootsrap to create `n_iter` samples from the original dataset: $X_1, \\dots, X_{n_iter}$\n",
        "2. For each bootstrapped sample define out-of-bag (OOB) sample $Z_1, \\dots, Z_{n_iter}$, which contain all the observations, which did not appear in the corresponding boostraped sample\n",
        "3. Fit the model on $X_i$s and compute predictions on $Z_i$s\n",
        "4. For a given *object* $n$:\n",
        "     - bias^2: squared difference between true value $y_n$ and average prediction (average over the algorithms, for which $n$ was in OOB)\n",
        "     - variance: variance of the prediction (predictions of the algorithms, for which $n$ was in OOB)\n",
        "5. Average bias^2 and variance over all the points\n",
        "    \n",
        "**Implement `get_bias_variance` function, using the algorithm above**\n",
        "\n",
        "*Note:*  You can only use 1 loop (for bootsrap iterations). All other operations should be vectorized."
      ]
    },
    {
      "cell_type": "code",
      "execution_count": null,
      "metadata": {
        "ExecuteTime": {
          "end_time": "2023-11-09T17:46:40.887222Z",
          "start_time": "2023-11-09T17:46:40.887195Z"
        },
        "id": "3l4u7n64C310"
      },
      "outputs": [],
      "source": [
        "from sklearn.utils import resample\n",
        "def get_bias_variance(estimator, X, y, n_iter):\n",
        "    predict = np.zeros((X.shape[0], n_iter))\n",
        "    for i in range(n_iter):\n",
        "        X_b, y_b = resample(X, y, replace=True, n_samples=X.shape[0])\n",
        "        oob_indexes = np.setdiff1d(np.arange(X.shape[0]), np.unique(np.where(np.in1d(np.arange(X.shape[0]), X_b))[0]))\n",
        "        estimator.fit(X_b, y_b)\n",
        "        predict[oob_indexes, i] = estimator.predict(X[oob_indexes])\n",
        "    bias2_values = np.zeros(X.shape[0])\n",
        "    variance_values = np.zeros(X.shape[0])\n",
        "\n",
        "    for n in range(X.shape[0]):\n",
        "        bias2_values[n] = (np.mean(predict[n, :]) - y[n]) ** 2\n",
        "        variance_values[n] = np.var(predict[n, :])\n",
        "    bias2 = np.mean(bias2_values)\n",
        "    variance = np.mean(variance_values)\n",
        "\n",
        "    return bias2, variance"
      ]
    },
    {
      "cell_type": "code",
      "execution_count": null,
      "metadata": {
        "ExecuteTime": {
          "end_time": "2023-11-09T17:46:40.888721Z",
          "start_time": "2023-11-09T17:46:40.888706Z"
        },
        "id": "MV5ndlKKC310",
        "colab": {
          "base_uri": "https://localhost:8080/"
        },
        "outputId": "691c1c1b-d310-4340-dc4f-e7b5355efc34"
      },
      "outputs": [
        {
          "output_type": "execute_result",
          "data": {
            "text/plain": [
              "(135.47749384057732, 23.316910665188153)"
            ]
          },
          "metadata": {},
          "execution_count": 14
        }
      ],
      "source": [
        "# Test\n",
        "estimator = MyDecisionTreeRegressor(max_depth=8, min_samples_split=15)\n",
        "\n",
        "get_bias_variance(estimator, X_train, y_train, 10)\n"
      ]
    },
    {
      "cell_type": "markdown",
      "metadata": {
        "id": "IJRavoe7C311"
      },
      "source": [
        "### Task 7 <a id=\"task7\"></a>  (0.5 points)\n",
        "\n",
        "Compute bias and variance for the trees with different min_samples_split. Plot how bias and variance change as min_samples_split increases.\n",
        "\n",
        "Comment on what you observe, how does your result correspond to theory?"
      ]
    },
    {
      "cell_type": "code",
      "execution_count": null,
      "metadata": {
        "ExecuteTime": {
          "end_time": "2023-11-09T17:46:40.889695Z",
          "start_time": "2023-11-09T17:46:40.889683Z"
        },
        "id": "7YTfR2IYC311",
        "colab": {
          "base_uri": "https://localhost:8080/",
          "height": 445
        },
        "outputId": "99094515-a3e6-4208-9a94-18c2be769e02"
      },
      "outputs": [
        {
          "output_type": "display_data",
          "data": {
            "text/plain": [
              "<Figure size 1100x500 with 1 Axes>"
            ],
            "image/png": "[encoded data removed]"
          },
          "metadata": {}
        }
      ],
      "source": [
        "min_sample_splits = [2,3, 4, 5, 6, 7, 8, 9, 10]\n",
        "x_points_bias = []\n",
        "y_point_bias = []\n",
        "x_variance = []\n",
        "y_variance = []\n",
        "for i in range(2, 15):\n",
        "    bias, variance = get_bias_variance(MyDecisionTreeRegressor(min_samples_split=i), X_train, y_train, 10)\n",
        "    x_points_bias.append(i)\n",
        "    y_point_bias.append(bias)\n",
        "    x_variance.append(i)\n",
        "    y_variance.append(variance)\n",
        "plt.plot(x_points_bias, y_point_bias, label=\"bias\")\n",
        "plt.plot(x_variance, y_variance, label=\"variance\")\n",
        "plt.legend()\n",
        "plt.show()"
      ]
    },
    {
      "cell_type": "markdown",
      "source": [
        "На графике видно, что при увеличении смещения уменьшается дисперсия и наоборот. Это можно объяснить концепцией bias-variance tradeoff - поиском компромисса между смещением и дисперсией(по сути баланса между переобучением и недообучением)"
      ],
      "metadata": {
        "id": "Dx04RaJybwbj"
      }
    },
    {
      "cell_type": "markdown",
      "metadata": {
        "id": "nfzlZetfC311"
      },
      "source": [
        "### Task 8 <a id=\"task8\"></a>  (0.5 points)\n",
        "\n",
        "Let's try to reduce variance with bagging. Use `sklearn.ensemble.BaggingRegressor` to get an ensemble and compute its bias and variance.\n",
        "\n",
        "Answer the following questions:\n",
        " - How bagging should affect bias and variance in theory?\n",
        " - How bias and variance change (if they change) compared to an individual tree in you experiments?\n",
        " - Do your results align with the theory? Why?"
      ]
    },
    {
      "cell_type": "code",
      "execution_count": null,
      "metadata": {
        "ExecuteTime": {
          "end_time": "2023-11-09T17:46:40.891228Z",
          "start_time": "2023-11-09T17:46:40.891211Z"
        },
        "id": "IwlWlfnnC312",
        "colab": {
          "base_uri": "https://localhost:8080/"
        },
        "outputId": "aabb8bfa-bf47-4483-96c1-0a32661e0188"
      },
      "outputs": [
        {
          "output_type": "stream",
          "name": "stdout",
          "text": [
            "Bias:  136.65259160263855\n",
            "Variance:  19.826638910165826\n"
          ]
        }
      ],
      "source": [
        "from sklearn.ensemble import BaggingRegressor\n",
        "bias, variance = get_bias_variance(BaggingRegressor(estimator), X_train, y_train, 10)\n",
        "print(\"Bias: \", bias)\n",
        "print(\"Variance: \", variance)"
      ]
    },
    {
      "cell_type": "markdown",
      "metadata": {
        "id": "9Ar24wj-C312"
      },
      "source": [
        "Согласно теории бэггинг позводяет снизить дисперсию и не влияет на смещение. Как видно из расчетов выше, после применения бэггинга снизилась дисперсия с 23.316910665188153 до 19.826638910165826, но при этом увеличилось смещение с 135.47749384057732 до 136.65259160263855"
      ]
    },
    {
      "cell_type": "markdown",
      "metadata": {
        "id": "OcLhDFw-C312"
      },
      "source": [
        "# Part 2. More Ensembles"
      ]
    },
    {
      "cell_type": "markdown",
      "metadata": {
        "id": "jxlkcrO-C312"
      },
      "source": [
        "In this part we will be working with [Billionaires Statistics Dataset](https://www.kaggle.com/datasets/nelgiriyewithana/billionaires-statistics-dataset) to solve a classification task."
      ]
    },
    {
      "cell_type": "code",
      "execution_count": null,
      "metadata": {
        "ExecuteTime": {
          "end_time": "2024-11-13T21:46:27.145107Z",
          "start_time": "2024-11-13T21:46:27.101156Z"
        },
        "id": "PDlkN890C312",
        "colab": {
          "base_uri": "https://localhost:8080/",
          "height": 355
        },
        "outputId": "50514d6b-81fc-46a1-8739-62cc363261aa"
      },
      "outputs": [
        {
          "output_type": "execute_result",
          "data": {
            "text/plain": [
              "   rank  finalWorth               category                personName   age  \\\n",
              "0     1      211000       Fashion & Retail  Bernard Arnault & family  74.0   \n",
              "1     2      180000             Automotive                 Elon Musk  51.0   \n",
              "2     3      114000             Technology                Jeff Bezos  59.0   \n",
              "3     4      107000             Technology             Larry Ellison  78.0   \n",
              "4     5      106000  Finance & Investments            Warren Buffett  92.0   \n",
              "\n",
              "         country    city              source             industries  \\\n",
              "0         France   Paris                LVMH       Fashion & Retail   \n",
              "1  United States  Austin       Tesla, SpaceX             Automotive   \n",
              "2  United States  Medina              Amazon             Technology   \n",
              "3  United States   Lanai              Oracle             Technology   \n",
              "4  United States   Omaha  Berkshire Hathaway  Finance & Investments   \n",
              "\n",
              "  countryOfCitizenship  ... cpi_change_country           gdp_country  \\\n",
              "0               France  ...                1.1   $2,715,518,274,227    \n",
              "1        United States  ...                7.5  $21,427,700,000,000    \n",
              "2        United States  ...                7.5  $21,427,700,000,000    \n",
              "3        United States  ...                7.5  $21,427,700,000,000    \n",
              "4        United States  ...                7.5  $21,427,700,000,000    \n",
              "\n",
              "  gross_tertiary_education_enrollment  \\\n",
              "0                                65.6   \n",
              "1                                88.2   \n",
              "2                                88.2   \n",
              "3                                88.2   \n",
              "4                                88.2   \n",
              "\n",
              "  gross_primary_education_enrollment_country life_expectancy_country  \\\n",
              "0                                      102.5                    82.5   \n",
              "1                                      101.8                    78.5   \n",
              "2                                      101.8                    78.5   \n",
              "3                                      101.8                    78.5   \n",
              "4                                      101.8                    78.5   \n",
              "\n",
              "  tax_revenue_country_country total_tax_rate_country population_country  \\\n",
              "0                        24.2                   60.7         67059887.0   \n",
              "1                         9.6                   36.6        328239523.0   \n",
              "2                         9.6                   36.6        328239523.0   \n",
              "3                         9.6                   36.6        328239523.0   \n",
              "4                         9.6                   36.6        328239523.0   \n",
              "\n",
              "  latitude_country longitude_country  \n",
              "0        46.227638          2.213749  \n",
              "1        37.090240        -95.712891  \n",
              "2        37.090240        -95.712891  \n",
              "3        37.090240        -95.712891  \n",
              "4        37.090240        -95.712891  \n",
              "\n",
              "[5 rows x 34 columns]"
            ],
            "text/html": [
              "\n",
              "  <div id=\"df-ff211e95-e866-423c-a360-6821a8210437\" class=\"colab-df-container\">\n",
              "    <div>\n",
              "<style scoped>\n",
              "    .dataframe tbody tr th:only-of-type {\n",
              "        vertical-align: middle;\n",
              "    }\n",
              "\n",
              "    .dataframe tbody tr th {\n",
              "        vertical-align: top;\n",
              "    }\n",
              "\n",
              "    .dataframe thead th {\n",
              "        text-align: right;\n",
              "    }\n",
              "</style>\n",
              "<table border=\"1\" class=\"dataframe\">\n",
              "  <thead>\n",
              "    <tr style=\"text-align: right;\">\n",
              "      <th></th>\n",
              "      <th>rank</th>\n",
              "      <th>finalWorth</th>\n",
              "      <th>category</th>\n",
              "      <th>personName</th>\n",
              "      <th>age</th>\n",
              "      <th>country</th>\n",
              "      <th>city</th>\n",
              "      <th>source</th>\n",
              "      <th>industries</th>\n",
              "      <th>countryOfCitizenship</th>\n",
              "      <th>...</th>\n",
              "      <th>cpi_change_country</th>\n",
              "      <th>gdp_country</th>\n",
              "      <th>gross_tertiary_education_enrollment</th>\n",
              "      <th>gross_primary_education_enrollment_country</th>\n",
              "      <th>life_expectancy_country</th>\n",
              "      <th>tax_revenue_country_country</th>\n",
              "      <th>total_tax_rate_country</th>\n",
              "      <th>population_country</th>\n",
              "      <th>latitude_country</th>\n",
              "      <th>longitude_country</th>\n",
              "    </tr>\n",
              "  </thead>\n",
              "  <tbody>\n",
              "    <tr>\n",
              "      <th>0</th>\n",
              "      <td>1</td>\n",
              "      <td>211000</td>\n",
              "      <td>Fashion &amp; Retail</td>\n",
              "      <td>Bernard Arnault &amp; family</td>\n",
              "      <td>74.0</td>\n",
              "      <td>France</td>\n",
              "      <td>Paris</td>\n",
              "      <td>LVMH</td>\n",
              "      <td>Fashion &amp; Retail</td>\n",
              "      <td>France</td>\n",
              "      <td>...</td>\n",
              "      <td>1.1</td>\n",
              "      <td>$2,715,518,274,227</td>\n",
              "      <td>65.6</td>\n",
              "      <td>102.5</td>\n",
              "      <td>82.5</td>\n",
              "      <td>24.2</td>\n",
              "      <td>60.7</td>\n",
              "      <td>67059887.0</td>\n",
              "      <td>46.227638</td>\n",
              "      <td>2.213749</td>\n",
              "    </tr>\n",
              "    <tr>\n",
              "      <th>1</th>\n",
              "      <td>2</td>\n",
              "      <td>180000</td>\n",
              "      <td>Automotive</td>\n",
              "      <td>Elon Musk</td>\n",
              "      <td>51.0</td>\n",
              "      <td>United States</td>\n",
              "      <td>Austin</td>\n",
              "      <td>Tesla, SpaceX</td>\n",
              "      <td>Automotive</td>\n",
              "      <td>United States</td>\n",
              "      <td>...</td>\n",
              "      <td>7.5</td>\n",
              "      <td>$21,427,700,000,000</td>\n",
              "      <td>88.2</td>\n",
              "      <td>101.8</td>\n",
              "      <td>78.5</td>\n",
              "      <td>9.6</td>\n",
              "      <td>36.6</td>\n",
              "      <td>328239523.0</td>\n",
              "      <td>37.090240</td>\n",
              "      <td>-95.712891</td>\n",
              "    </tr>\n",
              "    <tr>\n",
              "      <th>2</th>\n",
              "      <td>3</td>\n",
              "      <td>114000</td>\n",
              "      <td>Technology</td>\n",
              "      <td>Jeff Bezos</td>\n",
              "      <td>59.0</td>\n",
              "      <td>United States</td>\n",
              "      <td>Medina</td>\n",
              "      <td>Amazon</td>\n",
              "      <td>Technology</td>\n",
              "      <td>United States</td>\n",
              "      <td>...</td>\n",
              "      <td>7.5</td>\n",
              "      <td>$21,427,700,000,000</td>\n",
              "      <td>88.2</td>\n",
              "      <td>101.8</td>\n",
              "      <td>78.5</td>\n",
              "      <td>9.6</td>\n",
              "      <td>36.6</td>\n",
              "      <td>328239523.0</td>\n",
              "      <td>37.090240</td>\n",
              "      <td>-95.712891</td>\n",
              "    </tr>\n",
              "    <tr>\n",
              "      <th>3</th>\n",
              "      <td>4</td>\n",
              "      <td>107000</td>\n",
              "      <td>Technology</td>\n",
              "      <td>Larry Ellison</td>\n",
              "      <td>78.0</td>\n",
              "      <td>United States</td>\n",
              "      <td>Lanai</td>\n",
              "      <td>Oracle</td>\n",
              "      <td>Technology</td>\n",
              "      <td>United States</td>\n",
              "      <td>...</td>\n",
              "      <td>7.5</td>\n",
              "      <td>$21,427,700,000,000</td>\n",
              "      <td>88.2</td>\n",
              "      <td>101.8</td>\n",
              "      <td>78.5</td>\n",
              "      <td>9.6</td>\n",
              "      <td>36.6</td>\n",
              "      <td>328239523.0</td>\n",
              "      <td>37.090240</td>\n",
              "      <td>-95.712891</td>\n",
              "    </tr>\n",
              "    <tr>\n",
              "      <th>4</th>\n",
              "      <td>5</td>\n",
              "      <td>106000</td>\n",
              "      <td>Finance &amp; Investments</td>\n",
              "      <td>Warren Buffett</td>\n",
              "      <td>92.0</td>\n",
              "      <td>United States</td>\n",
              "      <td>Omaha</td>\n",
              "      <td>Berkshire Hathaway</td>\n",
              "      <td>Finance &amp; Investments</td>\n",
              "      <td>United States</td>\n",
              "      <td>...</td>\n",
              "      <td>7.5</td>\n",
              "      <td>$21,427,700,000,000</td>\n",
              "      <td>88.2</td>\n",
              "      <td>101.8</td>\n",
              "      <td>78.5</td>\n",
              "      <td>9.6</td>\n",
              "      <td>36.6</td>\n",
              "      <td>328239523.0</td>\n",
              "      <td>37.090240</td>\n",
              "      <td>-95.712891</td>\n",
              "    </tr>\n",
              "  </tbody>\n",
              "</table>\n",
              "<p>5 rows × 34 columns</p>\n",
              "</div>\n",
              "    <div class=\"colab-df-buttons\">\n",
              "\n",
              "  <div class=\"colab-df-container\">\n",
              "    <button class=\"colab-df-convert\" onclick=\"convertToInteractive('df-ff211e95-e866-423c-a360-6821a8210437')\"\n",
              "            title=\"Convert this dataframe to an interactive table.\"\n",
              "            style=\"display:none;\">\n",
              "\n",
              "  <svg xmlns=\"http://www.w3.org/2000/svg\" height=\"24px\" viewBox=\"0 -960 960 960\">\n",
              "    <path d=\"M120-120v-720h720v720H120Zm60-500h600v-160H180v160Zm220 220h160v-160H400v160Zm0 220h160v-160H400v160ZM180-400h160v-160H180v160Zm440 0h160v-160H620v160ZM180-180h160v-160H180v160Zm440 0h160v-160H620v160Z\"/>\n",
              "  </svg>\n",
              "    </button>\n",
              "\n",
              "  <style>\n",
              "    .colab-df-container {\n",
              "      display:flex;\n",
              "      gap: 12px;\n",
              "    }\n",
              "\n",
              "    .colab-df-convert {\n",
              "      background-color: #E8F0FE;\n",
              "      border: none;\n",
              "      border-radius: 50%;\n",
              "      cursor: pointer;\n",
              "      display: none;\n",
              "      fill: #1967D2;\n",
              "      height: 32px;\n",
              "      padding: 0 0 0 0;\n",
              "      width: 32px;\n",
              "    }\n",
              "\n",
              "    .colab-df-convert:hover {\n",
              "      background-color: #E2EBFA;\n",
              "      box-shadow: 0px 1px 2px rgba(60, 64, 67, 0.3), 0px 1px 3px 1px rgba(60, 64, 67, 0.15);\n",
              "      fill: #174EA6;\n",
              "    }\n",
              "\n",
              "    .colab-df-buttons div {\n",
              "      margin-bottom: 4px;\n",
              "    }\n",
              "\n",
              "    [theme=dark] .colab-df-convert {\n",
              "      background-color: #3B4455;\n",
              "      fill: #D2E3FC;\n",
              "    }\n",
              "\n",
              "    [theme=dark] .colab-df-convert:hover {\n",
              "      background-color: #434B5C;\n",
              "      box-shadow: 0px 1px 3px 1px rgba(0, 0, 0, 0.15);\n",
              "      filter: drop-shadow(0px 1px 2px rgba(0, 0, 0, 0.3));\n",
              "      fill: #FFFFFF;\n",
              "    }\n",
              "  </style>\n",
              "\n",
              "    <script>\n",
              "      const buttonEl =\n",
              "        document.querySelector('#df-ff211e95-e866-423c-a360-6821a8210437 button.colab-df-convert');\n",
              "      buttonEl.style.display =\n",
              "        google.colab.kernel.accessAllowed ? 'block' : 'none';\n",
              "\n",
              "      async function convertToInteractive(key) {\n",
              "        const element = document.querySelector('#df-ff211e95-e866-423c-a360-6821a8210437');\n",
              "        const dataTable =\n",
              "          await google.colab.kernel.invokeFunction('convertToInteractive',\n",
              "                                                    [key], {});\n",
              "        if (!dataTable) return;\n",
              "\n",
              "        const docLinkHtml = 'Like what you see? Visit the ' +\n",
              "          '<a target=\"_blank\" href=https://colab.research.google.com/notebooks/data_table.ipynb>data table notebook</a>'\n",
              "          + ' to learn more about interactive tables.';\n",
              "        element.innerHTML = '';\n",
              "        dataTable['output_type'] = 'display_data';\n",
              "        await google.colab.output.renderOutput(dataTable, element);\n",
              "        const docLink = document.createElement('div');\n",
              "        docLink.innerHTML = docLinkHtml;\n",
              "        element.appendChild(docLink);\n",
              "      }\n",
              "    </script>\n",
              "  </div>\n",
              "\n",
              "\n",
              "<div id=\"df-4c16d97b-dee5-491c-8818-737e0d168dc9\">\n",
              "  <button class=\"colab-df-quickchart\" onclick=\"quickchart('df-4c16d97b-dee5-491c-8818-737e0d168dc9')\"\n",
              "            title=\"Suggest charts\"\n",
              "            style=\"display:none;\">\n",
              "\n",
              "<svg xmlns=\"http://www.w3.org/2000/svg\" height=\"24px\"viewBox=\"0 0 24 24\"\n",
              "     width=\"24px\">\n",
              "    <g>\n",
              "        <path d=\"M19 3H5c-1.1 0-2 .9-2 2v14c0 1.1.9 2 2 2h14c1.1 0 2-.9 2-2V5c0-1.1-.9-2-2-2zM9 17H7v-7h2v7zm4 0h-2V7h2v10zm4 0h-2v-4h2v4z\"/>\n",
              "    </g>\n",
              "</svg>\n",
              "  </button>\n",
              "\n",
              "<style>\n",
              "  .colab-df-quickchart {\n",
              "      --bg-color: #E8F0FE;\n",
              "      --fill-color: #1967D2;\n",
              "      --hover-bg-color: #E2EBFA;\n",
              "      --hover-fill-color: #174EA6;\n",
              "      --disabled-fill-color: #AAA;\n",
              "      --disabled-bg-color: #DDD;\n",
              "  }\n",
              "\n",
              "  [theme=dark] .colab-df-quickchart {\n",
              "      --bg-color: #3B4455;\n",
              "      --fill-color: #D2E3FC;\n",
              "      --hover-bg-color: #434B5C;\n",
              "      --hover-fill-color: #FFFFFF;\n",
              "      --disabled-bg-color: #3B4455;\n",
              "      --disabled-fill-color: #666;\n",
              "  }\n",
              "\n",
              "  .colab-df-quickchart {\n",
              "    background-color: var(--bg-color);\n",
              "    border: none;\n",
              "    border-radius: 50%;\n",
              "    cursor: pointer;\n",
              "    display: none;\n",
              "    fill: var(--fill-color);\n",
              "    height: 32px;\n",
              "    padding: 0;\n",
              "    width: 32px;\n",
              "  }\n",
              "\n",
              "  .colab-df-quickchart:hover {\n",
              "    background-color: var(--hover-bg-color);\n",
              "    box-shadow: 0 1px 2px rgba(60, 64, 67, 0.3), 0 1px 3px 1px rgba(60, 64, 67, 0.15);\n",
              "    fill: var(--button-hover-fill-color);\n",
              "  }\n",
              "\n",
              "  .colab-df-quickchart-complete:disabled,\n",
              "  .colab-df-quickchart-complete:disabled:hover {\n",
              "    background-color: var(--disabled-bg-color);\n",
              "    fill: var(--disabled-fill-color);\n",
              "    box-shadow: none;\n",
              "  }\n",
              "\n",
              "  .colab-df-spinner {\n",
              "    border: 2px solid var(--fill-color);\n",
              "    border-color: transparent;\n",
              "    border-bottom-color: var(--fill-color);\n",
              "    animation:\n",
              "      spin 1s steps(1) infinite;\n",
              "  }\n",
              "\n",
              "  @keyframes spin {\n",
              "    0% {\n",
              "      border-color: transparent;\n",
              "      border-bottom-color: var(--fill-color);\n",
              "      border-left-color: var(--fill-color);\n",
              "    }\n",
              "    20% {\n",
              "      border-color: transparent;\n",
              "      border-left-color: var(--fill-color);\n",
              "      border-top-color: var(--fill-color);\n",
              "    }\n",
              "    30% {\n",
              "      border-color: transparent;\n",
              "      border-left-color: var(--fill-color);\n",
              "      border-top-color: var(--fill-color);\n",
              "      border-right-color: var(--fill-color);\n",
              "    }\n",
              "    40% {\n",
              "      border-color: transparent;\n",
              "      border-right-color: var(--fill-color);\n",
              "      border-top-color: var(--fill-color);\n",
              "    }\n",
              "    60% {\n",
              "      border-color: transparent;\n",
              "      border-right-color: var(--fill-color);\n",
              "    }\n",
              "    80% {\n",
              "      border-color: transparent;\n",
              "      border-right-color: var(--fill-color);\n",
              "      border-bottom-color: var(--fill-color);\n",
              "    }\n",
              "    90% {\n",
              "      border-color: transparent;\n",
              "      border-bottom-color: var(--fill-color);\n",
              "    }\n",
              "  }\n",
              "</style>\n",
              "\n",
              "  <script>\n",
              "    async function quickchart(key) {\n",
              "      const quickchartButtonEl =\n",
              "        document.querySelector('#' + key + ' button');\n",
              "      quickchartButtonEl.disabled = true;  // To prevent multiple clicks.\n",
              "      quickchartButtonEl.classList.add('colab-df-spinner');\n",
              "      try {\n",
              "        const charts = await google.colab.kernel.invokeFunction(\n",
              "            'suggestCharts', [key], {});\n",
              "      } catch (error) {\n",
              "        console.error('Error during call to suggestCharts:', error);\n",
              "      }\n",
              "      quickchartButtonEl.classList.remove('colab-df-spinner');\n",
              "      quickchartButtonEl.classList.add('colab-df-quickchart-complete');\n",
              "    }\n",
              "    (() => {\n",
              "      let quickchartButtonEl =\n",
              "        document.querySelector('#df-4c16d97b-dee5-491c-8818-737e0d168dc9 button');\n",
              "      quickchartButtonEl.style.display =\n",
              "        google.colab.kernel.accessAllowed ? 'block' : 'none';\n",
              "    })();\n",
              "  </script>\n",
              "</div>\n",
              "    </div>\n",
              "  </div>\n"
            ],
            "application/vnd.google.colaboratory.intrinsic+json": {
              "type": "dataframe",
              "variable_name": "X"
            }
          },
          "metadata": {},
          "execution_count": 17
        }
      ],
      "source": [
        "from sklearn.preprocessing import LabelEncoder\n",
        "\n",
        "df = pd.read_csv('Billionaires Statistics Dataset.csv')\n",
        "\n",
        "le = LabelEncoder()\n",
        "y = le.fit_transform(df['selfMade'])\n",
        "X = df.drop('selfMade', axis=1)\n",
        "X.head(5)"
      ]
    },
    {
      "cell_type": "markdown",
      "metadata": {
        "id": "B6xRqhd8C313"
      },
      "source": [
        "### Task 1 <a id=\"task2_1\"></a> (1 point)\n",
        "\n",
        "Let's start with data preprocessing.\n",
        "\n",
        "0. Drop columns, which are not usefull (e.g. a lot of missing values). Motivate your choice.\n",
        "1. Split dataset into train and test\n",
        "2. You've probably noticed that we have both categorical and numerical columns. Here is what you need to do with them:\n",
        "    - Categorical: Fill missing values and apply one-hot-encoding (if there are more than 10 unique values in a column, use `min_frequency` and/or `max_categories` parameter)\n",
        "    - Numeric: Fill missing values\n",
        "    \n",
        "Use `ColumnTranformer` to define a single transformer for all the columns in the dataset. It takes as input a list of tuples\n",
        "\n",
        "```\n",
        "ColumnTransformer([\n",
        "    ('name1', transform1, column_names1),\n",
        "    ('name2', transform2, column_names2)\n",
        "])\n",
        "```\n",
        "\n",
        "Pay attention to an argument `remainder='passthrough'`. [Here](https://scikit-learn.org/stable/modules/compose.html#column-transformer) you can find some examples of how to use column transformer.\n",
        "    \n",
        "Since we want to apply 2 transformations to categorical feature, it is very convenient to combine them into a `Pipeline`:\n",
        "\n",
        "```\n",
        "double_tranform = make_pipeline(\n",
        "                        transform_1,\n",
        "                        transform_2\n",
        "                        )\n",
        "```\n",
        "\n",
        "P.S. Choose your favourite way to fill missing values.\n",
        "\n",
        "*Hint* Categorical column usually have `dtype = 'object'`. This may help to obtain list of categorical and numerical columns on the dataset."
      ]
    },
    {
      "cell_type": "code",
      "execution_count": null,
      "metadata": {
        "id": "es8TnyAsC313",
        "colab": {
          "base_uri": "https://localhost:8080/"
        },
        "outputId": "a2314b2a-526f-4255-eedb-3605f17983f2"
      },
      "outputs": [
        {
          "output_type": "execute_result",
          "data": {
            "text/plain": [
              "array([[ 0.        ,  0.        ,  0.        , ..., -0.30550502,\n",
              "         0.11542467, -0.00563506],\n",
              "       [ 0.        ,  0.        ,  0.        , ..., -0.30550502,\n",
              "         0.11542467, -0.00563506],\n",
              "       [ 0.        ,  0.        ,  0.        , ...,  1.70160721,\n",
              "         0.0409845 ,  1.10762503],\n",
              "       ...,\n",
              "       [ 0.        ,  0.        ,  0.        , ..., -0.30550502,\n",
              "         0.11542467, -0.00563506],\n",
              "       [ 0.        ,  0.        ,  0.        , ..., -0.30550502,\n",
              "         0.11542467, -1.26639597],\n",
              "       [ 0.        ,  0.        ,  0.        , ..., -0.905428  ,\n",
              "         0.70484506, -0.03204645]])"
            ]
          },
          "metadata": {},
          "execution_count": 18
        }
      ],
      "source": [
        "from sklearn.pipeline import make_pipeline\n",
        "from sklearn.compose import ColumnTransformer\n",
        "from sklearn.preprocessing import OneHotEncoder\n",
        "from sklearn.impute import SimpleImputer\n",
        "from sklearn.preprocessing import StandardScaler\n",
        "threshold = 0.5\n",
        "X = X.dropna(thresh=int(X.shape[0] * (1 - threshold)), axis=1) #отбрасываем столбцы, у которых больше половины пропущенных значений\n",
        "\n",
        "X_train, X_test, y_train, y_test = train_test_split(X, y, test_size=0.2, random_state=42)\n",
        "categorical_columns = X.select_dtypes(include=['object']).columns.tolist()\n",
        "numerical_columns = X.select_dtypes(exclude=['object']).columns.tolist()\n",
        "categorical_pipeline = make_pipeline(\n",
        "    SimpleImputer(strategy='most_frequent'),\n",
        "    OneHotEncoder(handle_unknown='ignore', sparse_output=False)\n",
        ")\n",
        "\n",
        "numerical_pipeline = make_pipeline(SimpleImputer(strategy='median'), StandardScaler())\n",
        "\n",
        "column_transformer = ColumnTransformer(\n",
        "    transformers=[('cat', categorical_pipeline, categorical_columns), ('num', numerical_pipeline, numerical_columns)],\n",
        "    remainder='passthrough'\n",
        ")\n",
        "\n",
        "X_train_transformed = column_transformer.fit_transform(X_train)\n",
        "X_test_transformed = column_transformer.transform(X_test)\n",
        "X_train_transformed"
      ]
    },
    {
      "cell_type": "markdown",
      "metadata": {
        "id": "6W9NGBFoC313"
      },
      "source": [
        "### Task 2 <a id=\"task2_2\"></a> (0.7 points)\n",
        "\n",
        "Fit and compare 5 different models (use sklearn): Gradient Boosting, Random Forest, Decision Tree, SVM, Logitics Regression\n",
        "    \n",
        "* Choose one classification metric and justify your choice .\n",
        "* Compare the models using score on cross validation. Mind the class balance when choosing the cross validation. (You can read more about different CV strategies [here](https://scikit-learn.org/stable/modules/cross_validation.html#stratified-k-fold))\n",
        "* Which model has the best performance? Which models overfit or underfit?"
      ]
    },
    {
      "cell_type": "code",
      "execution_count": null,
      "metadata": {
        "id": "3zTKr1gOC314",
        "colab": {
          "base_uri": "https://localhost:8080/"
        },
        "outputId": "5f9f7255-50bf-44ed-a354-0295ddc83461"
      },
      "outputs": [
        {
          "output_type": "stream",
          "name": "stdout",
          "text": [
            "Model:  Gradient Boosting\n",
            "Cross validation score 0.8636\n",
            "Actual test score: 0.8794\n",
            "Model:  Random Forest\n",
            "Cross validation score 0.8735\n",
            "Actual test score: 0.8777\n",
            "Model:  Decision Tree\n",
            "Cross validation score 0.8250\n",
            "Actual test score: 0.8252\n",
            "Model:  SVM\n",
            "Cross validation score 0.8494\n",
            "Actual test score: 0.8645\n",
            "Model:  Logistic Regression\n",
            "Cross validation score 0.8761\n",
            "Actual test score: 0.8742\n"
          ]
        }
      ],
      "source": [
        "from sklearn.model_selection import cross_val_score, StratifiedKFold\n",
        "from sklearn.ensemble import GradientBoostingClassifier, RandomForestClassifier\n",
        "from sklearn.tree import DecisionTreeClassifier\n",
        "from sklearn.svm import SVC\n",
        "from sklearn.linear_model import LogisticRegression\n",
        "from sklearn.metrics import make_scorer, f1_score\n",
        "cv = StratifiedKFold(n_splits=5, shuffle=True, random_state=42)\n",
        "models = {\n",
        "    'Gradient Boosting': GradientBoostingClassifier(random_state=42),\n",
        "    'Random Forest': RandomForestClassifier(random_state=42),\n",
        "    'Decision Tree': DecisionTreeClassifier(random_state=42),\n",
        "    'SVM': make_pipeline(StandardScaler(), SVC(random_state=42)),\n",
        "    'Logistic Regression': make_pipeline(StandardScaler(), LogisticRegression(random_state=42))\n",
        "}\n",
        "\n",
        "for model_name, model in models.items():\n",
        "  model.fit(X_train_transformed, y_train)\n",
        "  print(\"Model: \",model_name)\n",
        "  print(f'Cross validation score {cross_val_score(model, X_train_transformed, y_train, scoring=\"f1\", cv=cv).mean():.4f}')\n",
        "  print(f'Actual test score: {f1_score(y_test, model.predict(X_test_transformed)):.4f}')\n"
      ]
    },
    {
      "cell_type": "markdown",
      "source": [
        "Лучший скор на кросс-валидации вышел у Logistic Regression, на тестовой выборке у Gradient Boosting. Переобученных моделей нет. Можно предположить что Decision Tree немного недообучена, поскольку у нее самый низкий скор"
      ],
      "metadata": {
        "id": "kDhTJSNcDeJG"
      }
    },
    {
      "cell_type": "markdown",
      "metadata": {
        "id": "uY0jJ241C314"
      },
      "source": [
        "### Task 3 <a id=\"task2_3\"></a> (0.5 points)\n",
        "\n",
        "More Gradient Boosting. You will have to take one of the three popular boosting implementations (xgboost, lightgbm, catboost). Select hyperparameters (number of trees, learning rate, depth) on cross-validation and compare with the methods from the previous task."
      ]
    },
    {
      "cell_type": "code",
      "source": [
        "!pip install catboost --quiet"
      ],
      "metadata": {
        "id": "yQFUgkP3HhcO"
      },
      "execution_count": null,
      "outputs": []
    },
    {
      "cell_type": "code",
      "execution_count": null,
      "metadata": {
        "id": "MyUQ0yAEC315",
        "colab": {
          "base_uri": "https://localhost:8080/"
        },
        "outputId": "71285b6d-51fc-4712-e4fe-94365d6f3cdc"
      },
      "outputs": [
        {
          "output_type": "stream",
          "name": "stdout",
          "text": [
            "0:\tlearn: 0.6872358\ttotal: 18.9ms\tremaining: 37.9ms\n",
            "1:\tlearn: 0.6824166\ttotal: 36.9ms\tremaining: 18.4ms\n",
            "2:\tlearn: 0.6779645\ttotal: 53.4ms\tremaining: 0us\n",
            "0:\tlearn: 0.6883559\ttotal: 14.7ms\tremaining: 29.4ms\n",
            "1:\tlearn: 0.6833979\ttotal: 28.3ms\tremaining: 14.1ms\n",
            "2:\tlearn: 0.6780619\ttotal: 41.9ms\tremaining: 0us\n",
            "0:\tlearn: 0.6877529\ttotal: 30.1ms\tremaining: 60.3ms\n",
            "1:\tlearn: 0.6826849\ttotal: 50.6ms\tremaining: 25.3ms\n",
            "2:\tlearn: 0.6779530\ttotal: 73.7ms\tremaining: 0us\n",
            "0:\tlearn: 0.6882234\ttotal: 14.1ms\tremaining: 28.1ms\n",
            "1:\tlearn: 0.6825937\ttotal: 27.8ms\tremaining: 13.9ms\n",
            "2:\tlearn: 0.6777252\ttotal: 41.5ms\tremaining: 0us\n",
            "0:\tlearn: 0.6873692\ttotal: 10.2ms\tremaining: 20.5ms\n",
            "1:\tlearn: 0.6825475\ttotal: 28.4ms\tremaining: 14.2ms\n",
            "2:\tlearn: 0.6761629\ttotal: 42.4ms\tremaining: 0us\n",
            "0:\tlearn: 0.6876175\ttotal: 14.2ms\tremaining: 28.3ms\n",
            "1:\tlearn: 0.6814696\ttotal: 27.6ms\tremaining: 13.8ms\n",
            "2:\tlearn: 0.6768486\ttotal: 41.5ms\tremaining: 0us\n",
            "Test score estimate using Cross-Validation 0.8443\n",
            "Actual test score: 0.8496\n"
          ]
        }
      ],
      "source": [
        "from catboost import CatBoostClassifier\n",
        "cat_boost = CatBoostClassifier(learning_rate=0.01, num_trees=3, depth=5)\n",
        "cat_boost.fit(X_train_transformed, y_train)\n",
        "print(f'Test score estimate using Cross-Validation {cross_val_score(cat_boost, X_train_transformed, y_train, scoring=\"f1\", cv=cv).mean():.4f}')\n",
        "print(f'Actual test score: {f1_score(y_test, cat_boost.predict(X_test_transformed)):.4f}')\n"
      ]
    },
    {
      "cell_type": "markdown",
      "metadata": {
        "id": "hgi7TrrRC315"
      },
      "source": [
        "Результаты лучше, чем у Decision Tree, но хуже чем у остальных моделей"
      ]
    },
    {
      "cell_type": "markdown",
      "metadata": {
        "id": "qFk0DxA-C315"
      },
      "source": [
        "### Task 4 <a id=\"task2_4\"></a> (0.7 points)\n",
        "\n",
        "Now let's train more fancy ensembles:\n",
        "\n",
        "* Bagging with decision trees as base estimators\n",
        "* Bagging with gradient boosting (with large amount of trees, >100) as base estimators\n",
        "* [Voting classifier](https://scikit-learn.org/stable/modules/generated/sklearn.ensemble.VotingClassifier.html#sklearn.ensemble.VotingClassifier)\n",
        "* [Stacking Classifier](https://scikit-learn.org/stable/modules/generated/sklearn.ensemble.StackingClassifier.html#sklearn.ensemble.StackingClassifier) with Logistic Regression as a final model\n",
        "* [Stacking Classifier](https://scikit-learn.org/stable/modules/generated/sklearn.ensemble.StackingClassifier.html#sklearn.ensemble.StackingClassifier) with Gradeint Boosting as a final model\n",
        "\n",
        "\n",
        "If not stated in the task, feel free to tune / choose hyperparameters and base models.\n",
        "\n",
        "Answer the questions:\n",
        "* Which model has the best performance?\n",
        "* Does bagging reduce overfiting of the gradient boosting with large amount of trees?\n",
        "* What is the difference between voting and staking?"
      ]
    },
    {
      "cell_type": "code",
      "execution_count": null,
      "metadata": {
        "id": "iLqcn8yEC316",
        "colab": {
          "base_uri": "https://localhost:8080/"
        },
        "outputId": "beb3765b-bcd9-44ad-9fc1-41c796ce491c"
      },
      "outputs": [
        {
          "output_type": "stream",
          "name": "stdout",
          "text": [
            "Bagging with decision trees as base estimators:  train F1 Score = 0.9917\n",
            "Bagging with decision trees as base estimators:  test F1 Score = 0.8479\n",
            "Bagging with gradient boosting:  train F1 Score = 0.8952\n",
            "Bagging with gradient boosting:  test F1 Score = 0.8737\n",
            "Voting Classifier:  train F1 Score = 0.9986\n",
            "Voting Classifier:  test F1 Score = 0.8760\n",
            "Stacking with Logistic Regression:  train F1 Score = 0.9986\n",
            "Stacking with Logistic Regression:  test F1 Score = 0.8845\n",
            "Stacking with Gradient Boosting:  train F1 Score = 0.9935\n",
            "Stacking with Gradient Boosting:  test F1 Score = 0.8933\n"
          ]
        }
      ],
      "source": [
        "from sklearn.ensemble import BaggingClassifier, VotingClassifier, StackingClassifier\n",
        "\n",
        "models = {\n",
        "    \"Bagging with decision trees as base estimators\": BaggingClassifier(\n",
        "        estimator=DecisionTreeClassifier(random_state=42),\n",
        "        random_state=42\n",
        "    ),\n",
        "    \"Bagging with gradient boosting\": BaggingClassifier(\n",
        "        estimator=GradientBoostingClassifier(n_estimators=150),\n",
        "        random_state=42\n",
        "    ),\n",
        "    \"Voting Classifier\": VotingClassifier(\n",
        "        estimators=[\n",
        "            (\"rf\", RandomForestClassifier(random_state=42)),\n",
        "            (\"log_reg\", LogisticRegression(random_state=42))\n",
        "        ]\n",
        "    ),\n",
        "    \"Stacking with Logistic Regression\": StackingClassifier(\n",
        "        estimators=[\n",
        "            (\"rf\", RandomForestClassifier(random_state=42)),\n",
        "            (\"gb\", GradientBoostingClassifier(random_state=42))\n",
        "        ],\n",
        "        final_estimator=LogisticRegression(random_state=42)\n",
        "    ),\n",
        "    \"Stacking with Gradient Boosting\": StackingClassifier(\n",
        "        estimators=[\n",
        "            (\"rf\", RandomForestClassifier(random_state=42)),\n",
        "            (\"log_reg\", LogisticRegression(random_state=42))\n",
        "        ],\n",
        "        final_estimator=GradientBoostingClassifier(random_state=42)\n",
        "    )\n",
        "}\n",
        "\n",
        "\n",
        "for name, model in models.items():\n",
        "    model.fit(X_train_transformed, y_train)\n",
        "    y_pred = model.predict(X_train_transformed)\n",
        "    f1 = f1_score(y_train, y_pred)\n",
        "    print(f\"{name}:  train F1 Score = {f1:.4f}\")\n",
        "    print(f\"{name}:  test F1 Score = {f1_score(y_test, model.predict(X_test_transformed)):.4f}\")"
      ]
    },
    {
      "cell_type": "markdown",
      "metadata": {
        "id": "3CWya38BC316"
      },
      "source": [
        "Лучший результат на обучающих данных у Bagging with decision trees as base estimators:  train F1 Score = 0.9917, на тестовых y Stacking with Gradient Boosting:  test F1 Score = 0.8933"
      ]
    },
    {
      "cell_type": "markdown",
      "metadata": {
        "id": "di8v0aVJC316"
      },
      "source": [
        "### Task 5 <a id=\"task2_5\"></a> (0.1 points)\n",
        "\n",
        "Report the test score for the best model, that you were able to train."
      ]
    },
    {
      "cell_type": "markdown",
      "source": [
        "Лучший test score y Stacking with Gradient Boosting:  test F1 Score = 0.8933"
      ],
      "metadata": {
        "id": "2j4uBh2Ek3MF"
      }
    },
    {
      "cell_type": "code",
      "execution_count": null,
      "metadata": {
        "id": "Y45RYx2KC317"
      },
      "outputs": [],
      "source": [
        "# YOUR CODE HERE"
      ]
    }
  ],
  "metadata": {
    "hide_input": false,
    "kernelspec": {
      "display_name": "Python 3 (ipykernel)",
      "language": "python",
      "name": "python3"
    },
    "language_info": {
      "codemirror_mode": {
        "name": "ipython",
        "version": 3
      },
      "file_extension": ".py",
      "mimetype": "text/x-python",
      "name": "python",
      "nbconvert_exporter": "python",
      "pygments_lexer": "ipython3",
      "version": "3.9.13"
    },
    "toc": {
      "base_numbering": 1,
      "nav_menu": {},
      "number_sections": true,
      "sideBar": true,
      "skip_h1_title": false,
      "title_cell": "Table of Contents",
      "title_sidebar": "Contents",
      "toc_cell": false,
      "toc_position": {},
      "toc_section_display": true,
      "toc_window_display": false
    },
    "colab": {
      "provenance": []
    }
  },
  "nbformat": 4,
  "nbformat_minor": 0
}